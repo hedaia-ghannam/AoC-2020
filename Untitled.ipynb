{
 "cells": [
  {
   "cell_type": "code",
   "execution_count": 1,
   "metadata": {},
   "outputs": [
    {
     "name": "stdout",
     "output_type": "stream",
     "text": [
      "sol1= 870331\n"
     ]
    }
   ],
   "source": [
    "numbers=[]\n",
    "with open(\"day1.txt\",\"r\") as f:\n",
    "    strings=(f.read().splitlines())\n",
    "numbers = list(map(int, strings)) \n",
    "\n",
    "def search(list1,value1):\n",
    "    for i in list1:\n",
    "        if i==value1:\n",
    "            return(True);\n",
    "            break;\n",
    "\n",
    "for number in numbers:\n",
    "    if search( numbers,2020-number) == True:\n",
    "        print(\"sol1= \" +  str(number*(2020-number)))\n",
    "        break\n",
    "\n",
    "\n",
    "for i in range(len(numbers)-1):\n",
    "    for j in numbers[i:]:\n",
    "        if numbers[i]+j < 2020: \n",
    "            if search(numbers, 2020-(numbers[i]+j)) == True:\n",
    "                print(\"sol2= \"+ str(numbers[i]*j*(2020-(numbers[i]+j))))\n",
    "                break"
   ]
  },
  {
   "cell_type": "code",
   "execution_count": 3,
   "metadata": {},
   "outputs": [
    {
     "name": "stdout",
     "output_type": "stream",
     "text": [
      "sol2= 283025088\n",
      "sol2= 283025088\n"
     ]
    }
   ],
   "source": [
    "for i in range(len(numbers)-1):\n",
    "    for j in numbers[i:]:\n",
    "        if numbers[i]+j < 2020: \n",
    "            if search(numbers, 2020-(numbers[i]+j)) == True:\n",
    "                print(\"sol2= \"+ str(numbers[i]*j*(2020-(numbers[i]+j))))\n",
    "                break\n",
    "            \n",
    "        "
   ]
  },
  {
   "cell_type": "code",
   "execution_count": null,
   "metadata": {},
   "outputs": [],
   "source": []
  }
 ],
 "metadata": {
  "kernelspec": {
   "display_name": "Python 3",
   "language": "python",
   "name": "python3"
  },
  "language_info": {
   "codemirror_mode": {
    "name": "ipython",
    "version": 3
   },
   "file_extension": ".py",
   "mimetype": "text/x-python",
   "name": "python",
   "nbconvert_exporter": "python",
   "pygments_lexer": "ipython3",
   "version": "3.7.3"
  }
 },
 "nbformat": 4,
 "nbformat_minor": 2
}
