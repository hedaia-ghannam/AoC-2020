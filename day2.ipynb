{
 "cells": [
  {
   "cell_type": "code",
   "execution_count": 133,
   "metadata": {},
   "outputs": [
    {
     "data": {
      "text/plain": [
       "550"
      ]
     },
     "execution_count": 133,
     "metadata": {},
     "output_type": "execute_result"
    }
   ],
   "source": [
    "with open(\"day2.txt\", 'r') as f:\n",
    "        strings=(f.read().splitlines())\n",
    "sum(list(map(lambda x: (x.split()[-1]).count(x.split()[1][0]) in range(int(x.split()[0].split('-')[0]), int(x.split()[0].split('-')[1])+1), strings)))"
   ]
  },
  {
   "cell_type": "code",
   "execution_count": 134,
   "metadata": {},
   "outputs": [
    {
     "data": {
      "text/plain": [
       "634"
      ]
     },
     "execution_count": 134,
     "metadata": {},
     "output_type": "execute_result"
    }
   ],
   "source": [
    "with open(\"day2.txt\", 'r') as f:\n",
    "        strings=(f.read().splitlines())\n",
    "ans= (list(map(lambda x: ((x.split()[-1])[int(x.split()[0].split('-')[0])-1] == x.split()[1][0]) + int((x.split()[-1])[int(x.split()[0].split('-')[1])-1] == x.split()[1][0]) == 1, strings)))\n",
    "\n",
    "sum(ans)\n",
    "\n"
   ]
  },
  {
   "cell_type": "code",
   "execution_count": null,
   "metadata": {},
   "outputs": [],
   "source": []
  }
 ],
 "metadata": {
  "kernelspec": {
   "display_name": "Python 3",
   "language": "python",
   "name": "python3"
  },
  "language_info": {
   "codemirror_mode": {
    "name": "ipython",
    "version": 3
   },
   "file_extension": ".py",
   "mimetype": "text/x-python",
   "name": "python",
   "nbconvert_exporter": "python",
   "pygments_lexer": "ipython3",
   "version": "3.7.3"
  }
 },
 "nbformat": 4,
 "nbformat_minor": 2
}
